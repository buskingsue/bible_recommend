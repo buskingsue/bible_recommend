{
 "cells": [
  {
   "cell_type": "code",
   "execution_count": 1,
   "id": "13c599ee-4b0f-439c-b828-bc306161df10",
   "metadata": {},
   "outputs": [],
   "source": [
    "import json\n",
    "\n",
    "def hard_voting(file_list):\n",
    "    # 모든 파일의 데이터를 저장할 리스트\n",
    "    all_data = []\n",
    "\n",
    "    # 각 파일에서 데이터 로드\n",
    "    for file in file_list:\n",
    "        with open(file, 'r') as f:\n",
    "            data = [json.loads(line) for line in f.readlines()]\n",
    "            all_data.append(data)\n",
    "\n",
    "    final_results = []\n",
    "\n",
    "    # 각 id에 대해 투표 시작\n",
    "    for i in range(len(all_data[0])):\n",
    "        vote_result = {\"joy\": 0, \"anticipation\": 0, \"trust\": 0, \"surprise\": 0,\n",
    "                       \"disgust\": 0, \"fear\": 0, \"anger\": 0, \"sadness\": 0}\n",
    "\n",
    "        # 모든 파일의 예측 결과에 대해 투표 진행\n",
    "        for data in all_data:\n",
    "            for emotion in vote_result.keys():\n",
    "                if data[i]['output'][emotion] == 'True':\n",
    "                    vote_result[emotion] += 1\n",
    "\n",
    "        max_vote = max(vote_result.values())\n",
    "\n",
    "        if max_vote == 0:   # 만약 모든 감정이 False라면 \n",
    "            output_dict = {emotion: 'True' if emotion == 'joy' else 'False'\n",
    "                           for emotion in vote_result.keys()}\n",
    "        else:\n",
    "            output_dict = {emotion: 'True' if vote == max_vote else 'False'\n",
    "                           for emotion, vote in vote_result.items()}\n",
    "\n",
    "        final_results.append({\"id\" : all_data[0][i]['id'], \n",
    "                              'input': all_data[0][i]['input'], \n",
    "                              'output': output_dict})\n",
    "        \n",
    "    ensemble_filename = \"+\".join([file[len(file_path):].split('.')[0] for file in file_list])\n",
    "    \n",
    "    with open(f\"{file_path}ensemble({ensemble_filename}).jsonl\", mode='w') as outfile:\n",
    "        for entry in final_results:\n",
    "            json.dump(entry, outfile, ensure_ascii=False)\n",
    "            outfile.write('\\n')\n",
    "\n",
    "    return final_results\n",
    "\n",
    "\n",
    "# 사용 예시\n",
    "file_path = '../outputs/'\n",
    "# file_list = ['32.jsonl', '11.jsonl', '5.jsonl', '17.jsonl'] # # foundation 모델이 같아도 전처리 기법이 다른 top-4 모델\n",
    "# file_list = ['32.jsonl', '5.jsonl', '17.jsonl'] # foundation 모델이 서로 다른 top-3 모델\n",
    "# file_list = ['32.jsonl', '25.jsonl', '31.jsonl', '34.jsonl', '26.jsonl', '30.jsonl', '35.jsonl', '28.jsonl'] # public test score top-8 모델\n",
    "# file_list = ['32.jsonl', '25.jsonl', '31.jsonl', '34.jsonl', '26.jsonl'] # public test score top-5 모델\n",
    "file_list = ['32.jsonl', '25.jsonl', '31.jsonl'] # public test score top-5 모델\n",
    "file_list = [file_path + file_name for file_name in file_list]\n",
    "final_results = hard_voting(file_list)"
   ]
  },
  {
   "cell_type": "code",
   "execution_count": null,
   "id": "30ea7d71-e7c4-4add-9986-e1e769a7bf62",
   "metadata": {},
   "outputs": [],
   "source": []
  }
 ],
 "metadata": {
  "kernelspec": {
   "display_name": "Python 3 (ipykernel)",
   "language": "python",
   "name": "python3"
  },
  "language_info": {
   "codemirror_mode": {
    "name": "ipython",
    "version": 3
   },
   "file_extension": ".py",
   "mimetype": "text/x-python",
   "name": "python",
   "nbconvert_exporter": "python",
   "pygments_lexer": "ipython3",
   "version": "3.8.10"
  }
 },
 "nbformat": 4,
 "nbformat_minor": 5
}
