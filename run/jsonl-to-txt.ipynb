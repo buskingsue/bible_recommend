{
 "cells": [
  {
   "cell_type": "code",
   "execution_count": 1,
   "id": "af8660e9-1c5b-459a-b468-02c94e24f1ab",
   "metadata": {},
   "outputs": [],
   "source": [
    "import re\n",
    "from soynlp.normalizer import repeat_normalize\n",
    "\n",
    "url_pattern = re.compile(\n",
    "    r'https?:\\/\\/(www\\.)?[-a-zA-Z0-9@:%._\\+~#=]{1,256}\\.[a-zA-Z0-9()]{1,6}\\b([-a-zA-Z0-9()@:%_\\+.~#?&//=]*)')\n",
    "\n",
    "def clean(x): \n",
    "    x = url_pattern.sub('', x)\n",
    "    x = x.strip()\n",
    "    x = repeat_normalize(x, num_repeats=2)\n",
    "    return x\n",
    "\n",
    "def preprocess_data(text):\n",
    "    if type(text) is str:\n",
    "        text = text.replace(\"&others&\", \"\")\n",
    "        text = clean(text)\n",
    "        \n",
    "        return text\n",
    "    \n",
    "    else:\n",
    "        return \"\""
   ]
  },
  {
   "cell_type": "code",
   "execution_count": 2,
   "id": "57d56000-769a-47f0-9a86-326eed25f6e0",
   "metadata": {},
   "outputs": [],
   "source": [
    "import json\n",
    "\n",
    "jsonl_file_paths = [\"../resource/data/nikluge-ea-2023-train.jsonl\", \"../resource/data/nikluge-ea-2023-dev.jsonl\", \"../resource/data/nikluge-ea-2023-test.jsonl\"]\n",
    "output_txt_file_path = \"../resource/data/preprocessed-nikluge-ea-2023.txt\"  # 출력할 텍스트 파일 경로\n",
    "\n",
    "texts = []\n",
    "\n",
    "for jsonl_file_path in jsonl_file_paths:\n",
    "    with open(jsonl_file_path, 'r', encoding='utf-8') as f:\n",
    "        lines = f.readlines()\n",
    "        for line in lines:\n",
    "            json_line = json.loads(line)\n",
    "            text = json_line['input']['form']\n",
    "            texts.append(preprocess_data(text))\n",
    "        \n",
    "with open(output_txt_file_path, 'w', encoding='utf-8') as f:\n",
    "    for text in texts:\n",
    "        f.write(text + '\\n')"
   ]
  }
 ],
 "metadata": {
  "kernelspec": {
   "display_name": "Python 3 (ipykernel)",
   "language": "python",
   "name": "python3"
  },
  "language_info": {
   "codemirror_mode": {
    "name": "ipython",
    "version": 3
   },
   "file_extension": ".py",
   "mimetype": "text/x-python",
   "name": "python",
   "nbconvert_exporter": "python",
   "pygments_lexer": "ipython3",
   "version": "3.8.10"
  }
 },
 "nbformat": 4,
 "nbformat_minor": 5
}
