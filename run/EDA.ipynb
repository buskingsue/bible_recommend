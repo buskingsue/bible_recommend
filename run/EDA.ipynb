{
 "cells": [
  {
   "cell_type": "markdown",
   "id": "e0b5d4bf-5cda-4691-bc97-09fc7a14017e",
   "metadata": {},
   "source": [
    "# EDA"
   ]
  },
  {
   "cell_type": "code",
   "execution_count": 1,
   "id": "1b2571fb-d666-46f2-8264-25e4a6bc6dd9",
   "metadata": {},
   "outputs": [],
   "source": [
    "import pandas as pd\n",
    "import json\n",
    "import seaborn as sns\n",
    "import matplotlib.pyplot as plt\n",
    "\n",
    "# JSONL 파일 경로\n",
    "file_path = \"../resource/data/nikluge-ea-2023-train.jsonl\"\n",
    "\n",
    "# JSONL 파일을 줄 단위로 읽어서 각 줄을 딕셔너리로 변환하고, 이를 리스트에 추가합니다.\n",
    "data = []\n",
    "with open(file_path, 'r') as f:\n",
    "    for line in f:\n",
    "        json_line = json.loads(line)\n",
    "        row = {}\n",
    "        row['id'] = json_line['id']\n",
    "        row['input'] = json_line['input']['form']\n",
    "        row['target'] = json_line['input']['target']['form']\n",
    "        row['span_begin'] = json_line['input']['target']['begin']\n",
    "        row['span_end'] = json_line['input']['target']['end']\n",
    "        \n",
    "       # Output dictionary에서 감정 값을 추출하여 row에 추가합니다.\n",
    "        for emotion, value in json_line['output'].items():\n",
    "            row[emotion] = value\n",
    "        \n",
    "        data.append(row)\n",
    "\n",
    "# 리스트를 DataFrame으로 변환합니다.\n",
    "train_df = pd.DataFrame(data)"
   ]
  },
  {
   "cell_type": "code",
   "execution_count": 2,
   "id": "02e4846c-3fa5-42f5-989e-7927928c5939",
   "metadata": {},
   "outputs": [
    {
     "data": {
      "text/html": [
       "<div>\n",
       "<style scoped>\n",
       "    .dataframe tbody tr th:only-of-type {\n",
       "        vertical-align: middle;\n",
       "    }\n",
       "\n",
       "    .dataframe tbody tr th {\n",
       "        vertical-align: top;\n",
       "    }\n",
       "\n",
       "    .dataframe thead th {\n",
       "        text-align: right;\n",
       "    }\n",
       "</style>\n",
       "<table border=\"1\" class=\"dataframe\">\n",
       "  <thead>\n",
       "    <tr style=\"text-align: right;\">\n",
       "      <th></th>\n",
       "      <th>id</th>\n",
       "      <th>input</th>\n",
       "      <th>target</th>\n",
       "      <th>span_begin</th>\n",
       "      <th>span_end</th>\n",
       "      <th>joy</th>\n",
       "      <th>anticipation</th>\n",
       "      <th>trust</th>\n",
       "      <th>surprise</th>\n",
       "      <th>disgust</th>\n",
       "      <th>fear</th>\n",
       "      <th>anger</th>\n",
       "      <th>sadness</th>\n",
       "    </tr>\n",
       "  </thead>\n",
       "  <tbody>\n",
       "    <tr>\n",
       "      <th>0</th>\n",
       "      <td>nikluge-2023-ea-train-000001</td>\n",
       "      <td>하... 근데 준프샤 너무 고소각임...</td>\n",
       "      <td>준프샤</td>\n",
       "      <td>8.0</td>\n",
       "      <td>11.0</td>\n",
       "      <td>True</td>\n",
       "      <td>False</td>\n",
       "      <td>False</td>\n",
       "      <td>False</td>\n",
       "      <td>False</td>\n",
       "      <td>False</td>\n",
       "      <td>False</td>\n",
       "      <td>False</td>\n",
       "    </tr>\n",
       "    <tr>\n",
       "      <th>1</th>\n",
       "      <td>nikluge-2023-ea-train-000002</td>\n",
       "      <td>2기였나 지은북이랑 4기 메거진은 지금도 읽는데</td>\n",
       "      <td>4기 메거진</td>\n",
       "      <td>11.0</td>\n",
       "      <td>17.0</td>\n",
       "      <td>True</td>\n",
       "      <td>False</td>\n",
       "      <td>False</td>\n",
       "      <td>False</td>\n",
       "      <td>False</td>\n",
       "      <td>False</td>\n",
       "      <td>False</td>\n",
       "      <td>False</td>\n",
       "    </tr>\n",
       "    <tr>\n",
       "      <th>2</th>\n",
       "      <td>nikluge-2023-ea-train-000003</td>\n",
       "      <td>흐아아아아악 흐아아아아악악악악 됭햄 손차이가 절케 난다니 알고는 있엇지만 놀랍다 ㅣ...</td>\n",
       "      <td>됭햄 손차이</td>\n",
       "      <td>17.0</td>\n",
       "      <td>23.0</td>\n",
       "      <td>False</td>\n",
       "      <td>False</td>\n",
       "      <td>False</td>\n",
       "      <td>True</td>\n",
       "      <td>False</td>\n",
       "      <td>False</td>\n",
       "      <td>False</td>\n",
       "      <td>False</td>\n",
       "    </tr>\n",
       "    <tr>\n",
       "      <th>3</th>\n",
       "      <td>nikluge-2023-ea-train-000004</td>\n",
       "      <td>도브가 반반을 가고 프린스가 안밀린다면 하는 상상</td>\n",
       "      <td>None</td>\n",
       "      <td>NaN</td>\n",
       "      <td>NaN</td>\n",
       "      <td>False</td>\n",
       "      <td>True</td>\n",
       "      <td>False</td>\n",
       "      <td>False</td>\n",
       "      <td>False</td>\n",
       "      <td>False</td>\n",
       "      <td>False</td>\n",
       "      <td>False</td>\n",
       "    </tr>\n",
       "    <tr>\n",
       "      <th>4</th>\n",
       "      <td>nikluge-2023-ea-train-000005</td>\n",
       "      <td>담주에 티켓팅 공지 뜨고 다담주에 티켓팅할 느낌</td>\n",
       "      <td>티켓팅 공지</td>\n",
       "      <td>4.0</td>\n",
       "      <td>10.0</td>\n",
       "      <td>False</td>\n",
       "      <td>True</td>\n",
       "      <td>False</td>\n",
       "      <td>False</td>\n",
       "      <td>False</td>\n",
       "      <td>False</td>\n",
       "      <td>False</td>\n",
       "      <td>False</td>\n",
       "    </tr>\n",
       "    <tr>\n",
       "      <th>...</th>\n",
       "      <td>...</td>\n",
       "      <td>...</td>\n",
       "      <td>...</td>\n",
       "      <td>...</td>\n",
       "      <td>...</td>\n",
       "      <td>...</td>\n",
       "      <td>...</td>\n",
       "      <td>...</td>\n",
       "      <td>...</td>\n",
       "      <td>...</td>\n",
       "      <td>...</td>\n",
       "      <td>...</td>\n",
       "      <td>...</td>\n",
       "    </tr>\n",
       "    <tr>\n",
       "      <th>37927</th>\n",
       "      <td>nikluge-2023-ea-train-038684</td>\n",
       "      <td>저 등근육 때문에 역린 보러 영화관 5번 감…</td>\n",
       "      <td>등근육</td>\n",
       "      <td>2.0</td>\n",
       "      <td>5.0</td>\n",
       "      <td>True</td>\n",
       "      <td>False</td>\n",
       "      <td>False</td>\n",
       "      <td>False</td>\n",
       "      <td>False</td>\n",
       "      <td>False</td>\n",
       "      <td>False</td>\n",
       "      <td>False</td>\n",
       "    </tr>\n",
       "    <tr>\n",
       "      <th>37928</th>\n",
       "      <td>nikluge-2023-ea-train-038685</td>\n",
       "      <td>진짠데.. 나 헤테로 잘 안 잡는데...</td>\n",
       "      <td>헤테로</td>\n",
       "      <td>8.0</td>\n",
       "      <td>11.0</td>\n",
       "      <td>False</td>\n",
       "      <td>False</td>\n",
       "      <td>False</td>\n",
       "      <td>False</td>\n",
       "      <td>True</td>\n",
       "      <td>False</td>\n",
       "      <td>False</td>\n",
       "      <td>False</td>\n",
       "    </tr>\n",
       "    <tr>\n",
       "      <th>37929</th>\n",
       "      <td>nikluge-2023-ea-train-038686</td>\n",
       "      <td>고공화국 제일검이 소레수를 쓰는데 힐트는 또 펜싱검이라니 세상에나 &amp;others&amp;</td>\n",
       "      <td>펜싱검</td>\n",
       "      <td>25.0</td>\n",
       "      <td>28.0</td>\n",
       "      <td>False</td>\n",
       "      <td>False</td>\n",
       "      <td>False</td>\n",
       "      <td>True</td>\n",
       "      <td>False</td>\n",
       "      <td>False</td>\n",
       "      <td>False</td>\n",
       "      <td>False</td>\n",
       "    </tr>\n",
       "    <tr>\n",
       "      <th>37930</th>\n",
       "      <td>nikluge-2023-ea-train-038687</td>\n",
       "      <td>액션덕후는 다만악이후로 레이로 액션하는 잴을 다시 한번 더 볼수있는사실에 감격ㅠ</td>\n",
       "      <td>사실</td>\n",
       "      <td>37.0</td>\n",
       "      <td>39.0</td>\n",
       "      <td>True</td>\n",
       "      <td>False</td>\n",
       "      <td>False</td>\n",
       "      <td>False</td>\n",
       "      <td>False</td>\n",
       "      <td>False</td>\n",
       "      <td>False</td>\n",
       "      <td>False</td>\n",
       "    </tr>\n",
       "    <tr>\n",
       "      <th>37931</th>\n",
       "      <td>nikluge-2023-ea-train-038688</td>\n",
       "      <td>유방댕이...과일가게가면 어른들이 수박 뚜들기는거 보고 본인도 냅다 마마마마ㅏ악 두...</td>\n",
       "      <td>유방댕이</td>\n",
       "      <td>0.0</td>\n",
       "      <td>4.0</td>\n",
       "      <td>False</td>\n",
       "      <td>True</td>\n",
       "      <td>False</td>\n",
       "      <td>False</td>\n",
       "      <td>False</td>\n",
       "      <td>False</td>\n",
       "      <td>False</td>\n",
       "      <td>False</td>\n",
       "    </tr>\n",
       "  </tbody>\n",
       "</table>\n",
       "<p>37932 rows × 13 columns</p>\n",
       "</div>"
      ],
      "text/plain": [
       "                                 id  \\\n",
       "0      nikluge-2023-ea-train-000001   \n",
       "1      nikluge-2023-ea-train-000002   \n",
       "2      nikluge-2023-ea-train-000003   \n",
       "3      nikluge-2023-ea-train-000004   \n",
       "4      nikluge-2023-ea-train-000005   \n",
       "...                             ...   \n",
       "37927  nikluge-2023-ea-train-038684   \n",
       "37928  nikluge-2023-ea-train-038685   \n",
       "37929  nikluge-2023-ea-train-038686   \n",
       "37930  nikluge-2023-ea-train-038687   \n",
       "37931  nikluge-2023-ea-train-038688   \n",
       "\n",
       "                                                   input  target  span_begin  \\\n",
       "0                                 하... 근데 준프샤 너무 고소각임...     준프샤         8.0   \n",
       "1                             2기였나 지은북이랑 4기 메거진은 지금도 읽는데  4기 메거진        11.0   \n",
       "2      흐아아아아악 흐아아아아악악악악 됭햄 손차이가 절케 난다니 알고는 있엇지만 놀랍다 ㅣ...  됭햄 손차이        17.0   \n",
       "3                            도브가 반반을 가고 프린스가 안밀린다면 하는 상상    None         NaN   \n",
       "4                             담주에 티켓팅 공지 뜨고 다담주에 티켓팅할 느낌  티켓팅 공지         4.0   \n",
       "...                                                  ...     ...         ...   \n",
       "37927                          저 등근육 때문에 역린 보러 영화관 5번 감…     등근육         2.0   \n",
       "37928                             진짠데.. 나 헤테로 잘 안 잡는데...     헤테로         8.0   \n",
       "37929      고공화국 제일검이 소레수를 쓰는데 힐트는 또 펜싱검이라니 세상에나 &others&     펜싱검        25.0   \n",
       "37930       액션덕후는 다만악이후로 레이로 액션하는 잴을 다시 한번 더 볼수있는사실에 감격ㅠ      사실        37.0   \n",
       "37931  유방댕이...과일가게가면 어른들이 수박 뚜들기는거 보고 본인도 냅다 마마마마ㅏ악 두...    유방댕이         0.0   \n",
       "\n",
       "       span_end    joy anticipation  trust surprise disgust   fear  anger  \\\n",
       "0          11.0   True        False  False    False   False  False  False   \n",
       "1          17.0   True        False  False    False   False  False  False   \n",
       "2          23.0  False        False  False     True   False  False  False   \n",
       "3           NaN  False         True  False    False   False  False  False   \n",
       "4          10.0  False         True  False    False   False  False  False   \n",
       "...         ...    ...          ...    ...      ...     ...    ...    ...   \n",
       "37927       5.0   True        False  False    False   False  False  False   \n",
       "37928      11.0  False        False  False    False    True  False  False   \n",
       "37929      28.0  False        False  False     True   False  False  False   \n",
       "37930      39.0   True        False  False    False   False  False  False   \n",
       "37931       4.0  False         True  False    False   False  False  False   \n",
       "\n",
       "      sadness  \n",
       "0       False  \n",
       "1       False  \n",
       "2       False  \n",
       "3       False  \n",
       "4       False  \n",
       "...       ...  \n",
       "37927   False  \n",
       "37928   False  \n",
       "37929   False  \n",
       "37930   False  \n",
       "37931   False  \n",
       "\n",
       "[37932 rows x 13 columns]"
      ]
     },
     "execution_count": 2,
     "metadata": {},
     "output_type": "execute_result"
    }
   ],
   "source": [
    "train_df"
   ]
  },
  {
   "cell_type": "markdown",
   "id": "57ed8239-4396-4451-9bc0-f9c4086c7ac9",
   "metadata": {},
   "source": [
    "## train set의 문자열 길이 정보"
   ]
  },
  {
   "cell_type": "markdown",
   "id": "89c5f7a8-f4f6-457a-9160-72be5da387f8",
   "metadata": {},
   "source": [
    "### train set의 input 문자열 길이 정보"
   ]
  },
  {
   "cell_type": "code",
   "execution_count": 3,
   "id": "72df937a-7d32-4f04-af5e-274aa9c7097e",
   "metadata": {},
   "outputs": [
    {
     "data": {
      "text/plain": [
       "<seaborn.axisgrid.FacetGrid at 0x7feaa80efbe0>"
      ]
     },
     "execution_count": 3,
     "metadata": {},
     "output_type": "execute_result"
    },
    {
     "data": {
      "image/png": "[encoded data removed]",
      "text/plain": [
       "<Figure size 500x500 with 1 Axes>"
      ]
     },
     "metadata": {},
     "output_type": "display_data"
    }
   ],
   "source": [
    "train_input_lengths = [len(t) for t in train_df[\"input\"]]\n",
    "sns.displot(train_input_lengths)"
   ]
  },
  {
   "cell_type": "markdown",
   "id": "488ec400-ea79-4ea8-b4c1-7d664a34d8c3",
   "metadata": {},
   "source": [
    "### train set의 target 문자열 길이 정보"
   ]
  },
  {
   "cell_type": "code",
   "execution_count": 4,
   "id": "575c647f-9fda-490f-9d4b-ea6d3df48223",
   "metadata": {},
   "outputs": [
    {
     "data": {
      "text/plain": [
       "<seaborn.axisgrid.FacetGrid at 0x7fe9acb465b0>"
      ]
     },
     "execution_count": 4,
     "metadata": {},
     "output_type": "execute_result"
    },
    {
     "data": {
      "image/png": "[encoded data removed]",
      "text/plain": [
       "<Figure size 500x500 with 1 Axes>"
      ]
     },
     "metadata": {},
     "output_type": "display_data"
    }
   ],
   "source": [
    "train_target = train_df[\"target\"].fillna(\"\")\n",
    "train_target_lengths = [len(t) for t in train_target]\n",
    "sns.displot(train_target_lengths)"
   ]
  },
  {
   "cell_type": "markdown",
   "id": "1fe3f9bb-f464-4d95-9cc2-2dc54f4187cd",
   "metadata": {},
   "source": [
    "## train set의 감정 라벨 정보"
   ]
  },
  {
   "cell_type": "code",
   "execution_count": 5,
   "id": "e9c525a0-0fd8-4ca4-929b-2dcb304839e9",
   "metadata": {},
   "outputs": [],
   "source": [
    "emotion_cols = ['joy', 'anticipation', 'trust', 'surprise', 'disgust', 'fear', 'anger', 'sadness']"
   ]
  },
  {
   "cell_type": "code",
   "execution_count": 6,
   "id": "cc490dd2-1514-4ae5-ac79-c879cb22bc97",
   "metadata": {},
   "outputs": [],
   "source": [
    "# 문자열을 불리언으로 변환합니다.\n",
    "for col in emotion_cols:\n",
    "    train_df[col] = train_df[col] == 'True'"
   ]
  },
  {
   "cell_type": "markdown",
   "id": "ee99503a-17bf-4f7d-88b8-ac9ac803ae45",
   "metadata": {},
   "source": [
    "### 감정 별 발생률 그래프"
   ]
  },
  {
   "cell_type": "code",
   "execution_count": 7,
   "id": "0b91030b-91dc-456f-95d5-91646e0f6710",
   "metadata": {},
   "outputs": [
    {
     "name": "stdout",
     "output_type": "stream",
     "text": [
      "joy             0.561900\n",
      "anticipation    0.244464\n",
      "trust           0.058209\n",
      "surprise        0.068992\n",
      "disgust         0.039993\n",
      "fear            0.022171\n",
      "anger           0.042576\n",
      "sadness         0.065380\n",
      "dtype: float64\n"
     ]
    },
    {
     "data": {
      "image/png": "[encoded data removed]",
      "text/plain": [
       "<Figure size 640x480 with 1 Axes>"
      ]
     },
     "metadata": {},
     "output_type": "display_data"
    }
   ],
   "source": [
    "# 1. 각각의 감정에 대한 발생률을 계산하고 그래프로 나타냅니다.\n",
    "emotion_counts = train_df[emotion_cols].mean()\n",
    "emotion_counts.plot(kind='bar')\n",
    "plt.title('Emotion Occurrence Rates')\n",
    "plt.ylabel('Occurrence Rate')\n",
    "print(emotion_counts)\n",
    "plt.show()"
   ]
  },
  {
   "cell_type": "markdown",
   "id": "c960bc69-f59a-470a-9c22-ca1fccf698a6",
   "metadata": {},
   "source": [
    "### 데이터 별 라벨링 된 감정 수"
   ]
  },
  {
   "cell_type": "code",
   "execution_count": 8,
   "id": "717f1ffc-27ef-45ed-8693-f2e244fbfdff",
   "metadata": {},
   "outputs": [
    {
     "data": {
      "image/png": "[encoded data removed]",
      "text/plain": [
       "<Figure size 640x480 with 1 Axes>"
      ]
     },
     "metadata": {},
     "output_type": "display_data"
    }
   ],
   "source": [
    "# 2. 각 데이터 별 True인 감정의 개수를 계산하고 그래프로 나타냅니다.\n",
    "train_df['num_true_emotions'] = train_df[emotion_cols].sum(axis=1)\n",
    "counts = train_df['num_true_emotions'].value_counts().sort_index()\n",
    "ax = counts.plot(kind='bar')\n",
    "\n",
    "# 막대 위에 count 값을 표시합니다.\n",
    "for i in range(len(counts)):\n",
    "    ax.text(i, counts.iloc[i], str(counts.iloc[i]), ha='center', va='bottom')\n",
    "\n",
    "plt.title('Number of True Emotions per Data Point')\n",
    "plt.xlabel('Number of True Emotions')\n",
    "plt.ylabel('Count')\n",
    "plt.show()"
   ]
  },
  {
   "cell_type": "code",
   "execution_count": null,
   "id": "bbc4cf6a-048b-4d79-98a3-7399e175899f",
   "metadata": {},
   "outputs": [],
   "source": []
  }
 ],
 "metadata": {
  "kernelspec": {
   "display_name": "Python 3 (ipykernel)",
   "language": "python",
   "name": "python3"
  },
  "language_info": {
   "codemirror_mode": {
    "name": "ipython",
    "version": 3
   },
   "file_extension": ".py",
   "mimetype": "text/x-python",
   "name": "python",
   "nbconvert_exporter": "python",
   "pygments_lexer": "ipython3",
   "version": "3.8.10"
  }
 },
 "nbformat": 4,
 "nbformat_minor": 5
}
